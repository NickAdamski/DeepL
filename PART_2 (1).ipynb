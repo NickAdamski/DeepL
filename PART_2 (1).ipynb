{
  "nbformat": 4,
  "nbformat_minor": 0,
  "metadata": {
    "colab": {
      "provenance": []
    },
    "kernelspec": {
      "name": "python3",
      "display_name": "Python 3"
    },
    "language_info": {
      "name": "python"
    }
  },
  "cells": [
    {
      "cell_type": "code",
      "execution_count": 12,
      "metadata": {
        "colab": {
          "base_uri": "https://localhost:8080/"
        },
        "id": "aywnDgMX2XrL",
        "outputId": "d4e1ff2e-3e0a-4ca1-d091-fb69b1ba70b7"
      },
      "outputs": [
        {
          "output_type": "stream",
          "name": "stdout",
          "text": [
            "Looking in indexes: https://pypi.org/simple, https://us-python.pkg.dev/colab-wheels/public/simple/\n",
            "Requirement already satisfied: gdown in /usr/local/lib/python3.10/dist-packages (4.6.6)\n",
            "Requirement already satisfied: filelock in /usr/local/lib/python3.10/dist-packages (from gdown) (3.12.0)\n",
            "Requirement already satisfied: requests[socks] in /usr/local/lib/python3.10/dist-packages (from gdown) (2.27.1)\n",
            "Requirement already satisfied: six in /usr/local/lib/python3.10/dist-packages (from gdown) (1.16.0)\n",
            "Requirement already satisfied: tqdm in /usr/local/lib/python3.10/dist-packages (from gdown) (4.65.0)\n",
            "Requirement already satisfied: beautifulsoup4 in /usr/local/lib/python3.10/dist-packages (from gdown) (4.11.2)\n",
            "Requirement already satisfied: soupsieve>1.2 in /usr/local/lib/python3.10/dist-packages (from beautifulsoup4->gdown) (2.4.1)\n",
            "Requirement already satisfied: urllib3<1.27,>=1.21.1 in /usr/local/lib/python3.10/dist-packages (from requests[socks]->gdown) (1.26.15)\n",
            "Requirement already satisfied: certifi>=2017.4.17 in /usr/local/lib/python3.10/dist-packages (from requests[socks]->gdown) (2022.12.7)\n",
            "Requirement already satisfied: charset-normalizer~=2.0.0 in /usr/local/lib/python3.10/dist-packages (from requests[socks]->gdown) (2.0.12)\n",
            "Requirement already satisfied: idna<4,>=2.5 in /usr/local/lib/python3.10/dist-packages (from requests[socks]->gdown) (3.4)\n",
            "Requirement already satisfied: PySocks!=1.5.7,>=1.5.6 in /usr/local/lib/python3.10/dist-packages (from requests[socks]->gdown) (1.7.1)\n"
          ]
        }
      ],
      "source": [
        "!pip install gdown"
      ]
    },
    {
      "cell_type": "code",
      "source": [
        "import gdown\n",
        "from tensorflow.keras.layers import Embedding, LSTM, SimpleRNN, Dense, Conv1D, MaxPooling1D\n",
        "\n",
        "url = 'https://drive.google.com/file/d/1K1FYEcCnpQrQv3rHr2ozXXrILTOY3XF2/view?usp=share_link'\n",
        "url2 = 'https://drive.google.com/file/d/1dKPZpvP8KPXqScIZR-GYGYhOSGLmndMe/view?usp=share_link'\n",
        "output = 'best_model_no_pretrained_both.h5'\n",
        "output2 = 'best_model_pretrained_embedding.h5'\n",
        "gdown.download(url, output, quiet=False)\n",
        "gdown.download(url2, output2, quiet=False)\n"
      ],
      "metadata": {
        "colab": {
          "base_uri": "https://localhost:8080/",
          "height": 272
        },
        "id": "QRGiV_Sx23R4",
        "outputId": "91bbe84b-3efb-47f1-c752-442fe92685df"
      },
      "execution_count": 24,
      "outputs": [
        {
          "output_type": "stream",
          "name": "stderr",
          "text": [
            "/usr/local/lib/python3.10/dist-packages/gdown/parse_url.py:35: UserWarning: You specified a Google Drive link that is not the correct link to download a file. You might want to try `--fuzzy` option or the following url: https://drive.google.com/uc?id=1K1FYEcCnpQrQv3rHr2ozXXrILTOY3XF2\n",
            "  warnings.warn(\n",
            "Downloading...\n",
            "From: https://drive.google.com/file/d/1K1FYEcCnpQrQv3rHr2ozXXrILTOY3XF2/view?usp=share_link\n",
            "To: /content/best_model_no_pretrained_both.h5\n",
            "73.6kB [00:00, 14.9MB/s]\n",
            "/usr/local/lib/python3.10/dist-packages/gdown/parse_url.py:35: UserWarning: You specified a Google Drive link that is not the correct link to download a file. You might want to try `--fuzzy` option or the following url: https://drive.google.com/uc?id=1dKPZpvP8KPXqScIZR-GYGYhOSGLmndMe\n",
            "  warnings.warn(\n",
            "Downloading...\n",
            "From: https://drive.google.com/file/d/1dKPZpvP8KPXqScIZR-GYGYhOSGLmndMe/view?usp=share_link\n",
            "To: /content/best_model_pretrained_embedding.h5\n",
            "73.6kB [00:00, 13.5MB/s]\n"
          ]
        },
        {
          "output_type": "execute_result",
          "data": {
            "text/plain": [
              "'best_model_pretrained_embedding.h5'"
            ],
            "application/vnd.google.colaboratory.intrinsic+json": {
              "type": "string"
            }
          },
          "metadata": {},
          "execution_count": 24
        }
      ]
    },
    {
      "cell_type": "code",
      "source": [
        "import pandas as pd\n",
        "from sklearn.model_selection import train_test_split\n",
        "from sklearn.preprocessing import LabelEncoder\n",
        "import tensorflow as tf\n",
        "from tensorflow.keras.layers import Embedding, SimpleRNN, Dense, Flatten\n",
        "from tensorflow.keras.preprocessing.text import Tokenizer\n",
        "from keras.models import load_model\n",
        "from tensorflow.keras.preprocessing.sequence import pad_sequences\n",
        "from tensorflow.keras.models import Sequential\n",
        "from tensorflow.keras.layers import Embedding, SimpleRNN, Dense\n",
        "\n",
        "# Load the BBC dataset\n",
        "bbc_data = pd.read_csv('https://storage.googleapis.com/dataset-uploader/bbc/bbc-text.csv')\n",
        "\n",
        "# Display the first 5 rows of the dataset\n",
        "print(bbc_data.head())\n"
      ],
      "metadata": {
        "colab": {
          "base_uri": "https://localhost:8080/"
        },
        "id": "bFQKOML12ZCu",
        "outputId": "3d8c8a1a-f672-40f4-c361-5fcd223f0237"
      },
      "execution_count": 14,
      "outputs": [
        {
          "output_type": "stream",
          "name": "stdout",
          "text": [
            "        category                                               text\n",
            "0           tech  tv future in the hands of viewers with home th...\n",
            "1       business  worldcom boss  left books alone  former worldc...\n",
            "2          sport  tigers wary of farrell  gamble  leicester say ...\n",
            "3          sport  yeading face newcastle in fa cup premiership s...\n",
            "4  entertainment  ocean s twelve raids box office ocean s twelve...\n"
          ]
        }
      ]
    },
    {
      "cell_type": "code",
      "source": [
        "#Dataset Splitting for BBC Dataset\n",
        "train_data, test_data = train_test_split(bbc_data, test_size=0.2, random_state=42)\n",
        "val_data, test_data = train_test_split(test_data, test_size=0.5, random_state=42)\n"
      ],
      "metadata": {
        "id": "5d4Al-vy_8KN"
      },
      "execution_count": 15,
      "outputs": []
    },
    {
      "cell_type": "code",
      "source": [
        "train_data"
      ],
      "metadata": {
        "colab": {
          "base_uri": "https://localhost:8080/",
          "height": 423
        },
        "id": "94S2kam8CWLE",
        "outputId": "887e616c-de64-4d93-9fde-e837748a8ed1"
      },
      "execution_count": 16,
      "outputs": [
        {
          "output_type": "execute_result",
          "data": {
            "text/plain": [
              "           category                                               text\n",
              "1490  entertainment  farrell due to make us tv debut actor colin fa...\n",
              "2001       business  china continues rapid growth china s economy h...\n",
              "1572       business  ebbers  aware  of worldcom fraud former worldc...\n",
              "1840  entertainment  school tribute for tv host carson more than 1 ...\n",
              "610            tech  broadband fuels online expression fast web acc...\n",
              "...             ...                                                ...\n",
              "1638          sport  a november to remember last saturday  one news...\n",
              "1095          sport  african double in edinburgh world 5000m champi...\n",
              "1130           tech  what price for  trusted pc security   you can ...\n",
              "1294          sport  o driscoll/gregan lead aid stars ireland s bri...\n",
              "860            tech  new year s texting breaks record a mobile phon...\n",
              "\n",
              "[1780 rows x 2 columns]"
            ],
            "text/html": [
              "\n",
              "  <div id=\"df-454b31d0-d462-48fa-8836-292743ddbfcc\">\n",
              "    <div class=\"colab-df-container\">\n",
              "      <div>\n",
              "<style scoped>\n",
              "    .dataframe tbody tr th:only-of-type {\n",
              "        vertical-align: middle;\n",
              "    }\n",
              "\n",
              "    .dataframe tbody tr th {\n",
              "        vertical-align: top;\n",
              "    }\n",
              "\n",
              "    .dataframe thead th {\n",
              "        text-align: right;\n",
              "    }\n",
              "</style>\n",
              "<table border=\"1\" class=\"dataframe\">\n",
              "  <thead>\n",
              "    <tr style=\"text-align: right;\">\n",
              "      <th></th>\n",
              "      <th>category</th>\n",
              "      <th>text</th>\n",
              "    </tr>\n",
              "  </thead>\n",
              "  <tbody>\n",
              "    <tr>\n",
              "      <th>1490</th>\n",
              "      <td>entertainment</td>\n",
              "      <td>farrell due to make us tv debut actor colin fa...</td>\n",
              "    </tr>\n",
              "    <tr>\n",
              "      <th>2001</th>\n",
              "      <td>business</td>\n",
              "      <td>china continues rapid growth china s economy h...</td>\n",
              "    </tr>\n",
              "    <tr>\n",
              "      <th>1572</th>\n",
              "      <td>business</td>\n",
              "      <td>ebbers  aware  of worldcom fraud former worldc...</td>\n",
              "    </tr>\n",
              "    <tr>\n",
              "      <th>1840</th>\n",
              "      <td>entertainment</td>\n",
              "      <td>school tribute for tv host carson more than 1 ...</td>\n",
              "    </tr>\n",
              "    <tr>\n",
              "      <th>610</th>\n",
              "      <td>tech</td>\n",
              "      <td>broadband fuels online expression fast web acc...</td>\n",
              "    </tr>\n",
              "    <tr>\n",
              "      <th>...</th>\n",
              "      <td>...</td>\n",
              "      <td>...</td>\n",
              "    </tr>\n",
              "    <tr>\n",
              "      <th>1638</th>\n",
              "      <td>sport</td>\n",
              "      <td>a november to remember last saturday  one news...</td>\n",
              "    </tr>\n",
              "    <tr>\n",
              "      <th>1095</th>\n",
              "      <td>sport</td>\n",
              "      <td>african double in edinburgh world 5000m champi...</td>\n",
              "    </tr>\n",
              "    <tr>\n",
              "      <th>1130</th>\n",
              "      <td>tech</td>\n",
              "      <td>what price for  trusted pc security   you can ...</td>\n",
              "    </tr>\n",
              "    <tr>\n",
              "      <th>1294</th>\n",
              "      <td>sport</td>\n",
              "      <td>o driscoll/gregan lead aid stars ireland s bri...</td>\n",
              "    </tr>\n",
              "    <tr>\n",
              "      <th>860</th>\n",
              "      <td>tech</td>\n",
              "      <td>new year s texting breaks record a mobile phon...</td>\n",
              "    </tr>\n",
              "  </tbody>\n",
              "</table>\n",
              "<p>1780 rows × 2 columns</p>\n",
              "</div>\n",
              "      <button class=\"colab-df-convert\" onclick=\"convertToInteractive('df-454b31d0-d462-48fa-8836-292743ddbfcc')\"\n",
              "              title=\"Convert this dataframe to an interactive table.\"\n",
              "              style=\"display:none;\">\n",
              "        \n",
              "  <svg xmlns=\"http://www.w3.org/2000/svg\" height=\"24px\"viewBox=\"0 0 24 24\"\n",
              "       width=\"24px\">\n",
              "    <path d=\"M0 0h24v24H0V0z\" fill=\"none\"/>\n",
              "    <path d=\"M18.56 5.44l.94 2.06.94-2.06 2.06-.94-2.06-.94-.94-2.06-.94 2.06-2.06.94zm-11 1L8.5 8.5l.94-2.06 2.06-.94-2.06-.94L8.5 2.5l-.94 2.06-2.06.94zm10 10l.94 2.06.94-2.06 2.06-.94-2.06-.94-.94-2.06-.94 2.06-2.06.94z\"/><path d=\"M17.41 7.96l-1.37-1.37c-.4-.4-.92-.59-1.43-.59-.52 0-1.04.2-1.43.59L10.3 9.45l-7.72 7.72c-.78.78-.78 2.05 0 2.83L4 21.41c.39.39.9.59 1.41.59.51 0 1.02-.2 1.41-.59l7.78-7.78 2.81-2.81c.8-.78.8-2.07 0-2.86zM5.41 20L4 18.59l7.72-7.72 1.47 1.35L5.41 20z\"/>\n",
              "  </svg>\n",
              "      </button>\n",
              "      \n",
              "  <style>\n",
              "    .colab-df-container {\n",
              "      display:flex;\n",
              "      flex-wrap:wrap;\n",
              "      gap: 12px;\n",
              "    }\n",
              "\n",
              "    .colab-df-convert {\n",
              "      background-color: #E8F0FE;\n",
              "      border: none;\n",
              "      border-radius: 50%;\n",
              "      cursor: pointer;\n",
              "      display: none;\n",
              "      fill: #1967D2;\n",
              "      height: 32px;\n",
              "      padding: 0 0 0 0;\n",
              "      width: 32px;\n",
              "    }\n",
              "\n",
              "    .colab-df-convert:hover {\n",
              "      background-color: #E2EBFA;\n",
              "      box-shadow: 0px 1px 2px rgba(60, 64, 67, 0.3), 0px 1px 3px 1px rgba(60, 64, 67, 0.15);\n",
              "      fill: #174EA6;\n",
              "    }\n",
              "\n",
              "    [theme=dark] .colab-df-convert {\n",
              "      background-color: #3B4455;\n",
              "      fill: #D2E3FC;\n",
              "    }\n",
              "\n",
              "    [theme=dark] .colab-df-convert:hover {\n",
              "      background-color: #434B5C;\n",
              "      box-shadow: 0px 1px 3px 1px rgba(0, 0, 0, 0.15);\n",
              "      filter: drop-shadow(0px 1px 2px rgba(0, 0, 0, 0.3));\n",
              "      fill: #FFFFFF;\n",
              "    }\n",
              "  </style>\n",
              "\n",
              "      <script>\n",
              "        const buttonEl =\n",
              "          document.querySelector('#df-454b31d0-d462-48fa-8836-292743ddbfcc button.colab-df-convert');\n",
              "        buttonEl.style.display =\n",
              "          google.colab.kernel.accessAllowed ? 'block' : 'none';\n",
              "\n",
              "        async function convertToInteractive(key) {\n",
              "          const element = document.querySelector('#df-454b31d0-d462-48fa-8836-292743ddbfcc');\n",
              "          const dataTable =\n",
              "            await google.colab.kernel.invokeFunction('convertToInteractive',\n",
              "                                                     [key], {});\n",
              "          if (!dataTable) return;\n",
              "\n",
              "          const docLinkHtml = 'Like what you see? Visit the ' +\n",
              "            '<a target=\"_blank\" href=https://colab.research.google.com/notebooks/data_table.ipynb>data table notebook</a>'\n",
              "            + ' to learn more about interactive tables.';\n",
              "          element.innerHTML = '';\n",
              "          dataTable['output_type'] = 'display_data';\n",
              "          await google.colab.output.renderOutput(dataTable, element);\n",
              "          const docLink = document.createElement('div');\n",
              "          docLink.innerHTML = docLinkHtml;\n",
              "          element.appendChild(docLink);\n",
              "        }\n",
              "      </script>\n",
              "    </div>\n",
              "  </div>\n",
              "  "
            ]
          },
          "metadata": {},
          "execution_count": 16
        }
      ]
    },
    {
      "cell_type": "code",
      "source": [
        "# Display the number of samples in each set\n",
        "print(f\"Training samples: {len(train_data)}\")\n",
        "print(f\"Validation samples: {len(val_data)}\")\n",
        "print(f\"Testing samples: {len(test_data)}\")"
      ],
      "metadata": {
        "colab": {
          "base_uri": "https://localhost:8080/"
        },
        "id": "YCxF3h22AIzj",
        "outputId": "a512f170-6316-4d11-9bfb-9edefbdc343e"
      },
      "execution_count": 17,
      "outputs": [
        {
          "output_type": "stream",
          "name": "stdout",
          "text": [
            "Training samples: 1780\n",
            "Validation samples: 222\n",
            "Testing samples: 223\n"
          ]
        }
      ]
    },
    {
      "cell_type": "code",
      "source": [
        "# Tokenize the text data\n",
        "tokenizer = Tokenizer()\n",
        "tokenizer.fit_on_texts(train_data['text'])\n",
        "\n",
        "X_train = tokenizer.texts_to_sequences(train_data['text'])\n",
        "X_val = tokenizer.texts_to_sequences(val_data['text'])\n",
        "X_test = tokenizer.texts_to_sequences(test_data['text'])\n",
        "\n"
      ],
      "metadata": {
        "id": "r6I4jowVAPhw"
      },
      "execution_count": 18,
      "outputs": []
    },
    {
      "cell_type": "code",
      "source": [
        "# Pad the sequences\n",
        "max_length = 500\n",
        "\n",
        "X_train = pad_sequences(X_train, maxlen=max_length, padding='post', truncating='post')\n",
        "X_val = pad_sequences(X_val, maxlen=max_length, padding='post', truncating='post')\n",
        "X_test = pad_sequences(X_test, maxlen=max_length, padding='post', truncating='post')"
      ],
      "metadata": {
        "id": "ng65qqVKCLgx"
      },
      "execution_count": 19,
      "outputs": []
    },
    {
      "cell_type": "code",
      "source": [
        "# Prepare the target (sectionName) data\n",
        "encoder = LabelEncoder()\n",
        "encoder.fit(bbc_data['category'])\n",
        "y_train = encoder.transform(train_data['category'])\n",
        "y_val = encoder.transform(val_data['category'])\n",
        "y_test = encoder.transform(test_data['category'])"
      ],
      "metadata": {
        "id": "O_5hR9UJCN66"
      },
      "execution_count": 20,
      "outputs": []
    },
    {
      "cell_type": "code",
      "source": [
        "# Prompt 14: Load Saved Models from Part 1\n",
        "model_without_embeddings = load_model('/content/drive/MyDrive/best_model_no_pretrained_both.h5')\n",
        "model_with_embeddings = load_model('/content/drive/MyDrive/best_model_pretrained_embedding.h5')"
      ],
      "metadata": {
        "id": "ppUqNrwmAQxt"
      },
      "execution_count": 21,
      "outputs": []
    },
    {
      "cell_type": "code",
      "source": [
        "state_size = 128\n",
        "epochs = 1\n",
        "batch_size = 32\n",
        "\n",
        "def build_cnn_model(use_cnn_before_lstm):\n",
        "    model = Sequential()\n",
        "    model.add(Embedding(len(tokenizer.word_index) + 1, state_size, input_length=max_length))\n",
        "    if use_cnn_before_lstm:\n",
        "        model.add(Conv1D(filters=64, kernel_size=3, activation=\"relu\"))\n",
        "        model.add(MaxPooling1D(pool_size=2))\n",
        "    model.add(LSTM(state_size))\n",
        "    model.add(Dense(len(encoder.classes_), activation=\"softmax\"))\n",
        "    model.compile(loss=\"sparse_categorical_crossentropy\", optimizer=\"adam\", metrics=[\"accuracy\"])\n",
        "    return model\n",
        "\n",
        "# Use of CNN as an additional layer before LSTM\n",
        "cnn_lstm_model = build_cnn_model(True)\n",
        "cnn_lstm_history = cnn_lstm_model.fit(X_train, y_train, validation_data=(X_val, y_val), epochs=epochs, batch_size=32)\n",
        "cnn_lstm_test_loss, cnn_lstm_test_acc = cnn_lstm_model.evaluate(X_test, y_test, verbose=0)\n",
        "\n",
        "print(\"CNN as an additional layer before LSTM Test Accuracy:\", cnn_lstm_test_acc)"
      ],
      "metadata": {
        "colab": {
          "base_uri": "https://localhost:8080/"
        },
        "id": "4Hjitttj1jJY",
        "outputId": "3e235716-5d16-47f1-ab0e-e477018b17cc"
      },
      "execution_count": 25,
      "outputs": [
        {
          "output_type": "stream",
          "name": "stdout",
          "text": [
            "56/56 [==============================] - 33s 538ms/step - loss: 1.5678 - accuracy: 0.2753 - val_loss: 1.5534 - val_accuracy: 0.2342\n",
            "CNN as an additional layer before LSTM Test Accuracy: 0.27802690863609314\n"
          ]
        }
      ]
    },
    {
      "cell_type": "code",
      "source": [
        "# Transfer model without embeddings\n",
        "transfer_model_without_embeddings = Sequential([\n",
        "    model_without_embeddings.layers[0],\n",
        "    model_without_embeddings.layers[1],\n",
        "    Flatten(),\n",
        "    Dense(5, activation='softmax')\n",
        "])\n",
        "\n",
        "transfer_model_without_embeddings.compile(optimizer='adam', loss='sparse_categorical_crossentropy', metrics=['accuracy'])\n",
        "\n",
        "history_without_embeddings = transfer_model_without_embeddings.fit(X_train, y_train, validation_data=(X_val, y_val), epochs=2, batch_size=32)\n",
        "\n",
        "# Evaluate the model on the test dataset\n",
        "test_loss_without_embeddings, test_accuracy_without_embeddings = transfer_model_without_embeddings.evaluate(X_test, y_test)\n",
        "print(f\"Test loss without embeddings: {test_loss_without_embeddings}\")\n",
        "print(f\"Test accuracy without embeddings: {test_accuracy_without_embeddings}\")\n",
        "\n",
        "# Transfer model with embeddings\n",
        "transfer_model_with_embeddings = Sequential([\n",
        "    model_with_embeddings.layers[0],\n",
        "    model_with_embeddings.layers[1],\n",
        "    Flatten(),\n",
        "    Dense(5, activation='softmax')\n",
        "])\n",
        "\n",
        "transfer_model_with_embeddings.compile(optimizer='adam', loss='sparse_categorical_crossentropy', metrics=['accuracy'])\n",
        "\n",
        "history_with_embeddings = transfer_model_with_embeddings.fit(X_train, y_train, validation_data=(X_val, y_val), epochs=2, batch_size=32)\n",
        "\n",
        "# Evaluate the model on the test dataset\n",
        "test_loss_with_embeddings, test_accuracy_with_embeddings = transfer_model_with_embeddings.evaluate(X_test, y_test)\n",
        "print(f\"Test loss with embeddings: {test_loss_with_embeddings}\")\n",
        "print(f\"Test accuracy with embeddings: {test_accuracy_with_embeddings}\")\n"
      ],
      "metadata": {
        "colab": {
          "base_uri": "https://localhost:8080/"
        },
        "id": "HoYRmojtAiZg",
        "outputId": "860c3695-1ef8-43d2-8eb4-be75bdbc1b0e"
      },
      "execution_count": 27,
      "outputs": [
        {
          "output_type": "stream",
          "name": "stdout",
          "text": [
            "Epoch 1/2\n",
            "56/56 [==============================] - 102s 2s/step - loss: 1.5508 - accuracy: 0.3022 - val_loss: 1.5186 - val_accuracy: 0.2883\n",
            "Epoch 2/2\n",
            "56/56 [==============================] - 92s 2s/step - loss: 1.4679 - accuracy: 0.3107 - val_loss: 1.5193 - val_accuracy: 0.3108\n",
            "7/7 [==============================] - 2s 306ms/step - loss: 1.5249 - accuracy: 0.2601\n",
            "Test loss without embeddings: 1.524852991104126\n",
            "Test accuracy without embeddings: 0.2600896954536438\n",
            "Epoch 1/2\n",
            "56/56 [==============================] - 84s 1s/step - loss: 1.5617 - accuracy: 0.2742 - val_loss: 1.5562 - val_accuracy: 0.2838\n",
            "Epoch 2/2\n",
            "56/56 [==============================] - 80s 1s/step - loss: 1.4872 - accuracy: 0.3090 - val_loss: 1.4899 - val_accuracy: 0.3288\n",
            "7/7 [==============================] - 2s 248ms/step - loss: 1.4919 - accuracy: 0.2960\n",
            "Test loss with embeddings: 1.491922378540039\n",
            "Test accuracy with embeddings: 0.2959641218185425\n"
          ]
        }
      ]
    },
    {
      "cell_type": "markdown",
      "source": [
        "save best model"
      ],
      "metadata": {
        "id": "8uVRW_SMABEL"
      }
    },
    {
      "cell_type": "code",
      "source": [
        "cnn_lstm_model.save(\"part2.h5\")"
      ],
      "metadata": {
        "id": "Y7GSmQqQBQxp"
      },
      "execution_count": null,
      "outputs": []
    },
    {
      "cell_type": "code",
      "source": [
        "import matplotlib.pyplot as plt\n",
        "\n",
        "def plot_history(histories, labels):\n",
        "    plt.figure(figsize=(12, 5))\n",
        "    \n",
        "    # Plot accuracy\n",
        "    plt.subplot(1, 2, 1)\n",
        "    for history, label in zip(histories, labels):\n",
        "        plt.plot(history.history['accuracy'], label=f'Training {label}')\n",
        "        plt.plot(history.history['val_accuracy'], label=f'Validation {label}')\n",
        "    plt.title('Accuracy')\n",
        "    plt.xlabel('Epoch')\n",
        "    plt.ylabel('Accuracy')\n",
        "    plt.legend()\n",
        "\n",
        "    # Plot loss\n",
        "    plt.subplot(1, 2, 2)\n",
        "    for history, label in zip(histories, labels):\n",
        "        plt.plot(history.history['loss'], label=f'Training {label}')\n",
        "        plt.plot(history.history['val_loss'], label=f'Validation {label}')\n",
        "    plt.title('Loss')\n",
        "    plt.xlabel('Epoch')\n",
        "    plt.ylabel('Loss')\n",
        "    plt.legend()\n",
        "    \n",
        "    plt.show()\n"
      ],
      "metadata": {
        "id": "bKYcaCm2rDLM"
      },
      "execution_count": 28,
      "outputs": []
    },
    {
      "cell_type": "code",
      "source": [
        "plot_history([history_without_embeddings, history_with_embeddings], ['Without Embeddings', 'With Embeddings'])"
      ],
      "metadata": {
        "colab": {
          "base_uri": "https://localhost:8080/",
          "height": 487
        },
        "id": "n5MiCKafrRGm",
        "outputId": "aeb7b0a3-19a1-4e52-871d-29de8aa4c1c3"
      },
      "execution_count": 29,
      "outputs": [
        {
          "output_type": "display_data",
          "data": {
            "text/plain": [
              "<Figure size 1200x500 with 2 Axes>"
            ],
            "image/png": "[encoded data removed]"
          },
          "metadata": {}
        }
      ]
    }
  ]
}