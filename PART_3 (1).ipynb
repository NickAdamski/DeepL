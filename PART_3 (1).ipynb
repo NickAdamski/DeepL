{
  "nbformat": 4,
  "nbformat_minor": 0,
  "metadata": {
    "colab": {
      "provenance": [],
      "gpuType": "T4"
    },
    "kernelspec": {
      "name": "python3",
      "display_name": "Python 3"
    },
    "language_info": {
      "name": "python"
    },
    "gpuClass": "standard",
    "accelerator": "GPU"
  },
  "cells": [
    {
      "cell_type": "code",
      "execution_count": 1,
      "metadata": {
        "id": "At-SmnmukpxP"
      },
      "outputs": [],
      "source": [
        "import numpy as np\n",
        "import zipfile\n",
        "import pandas as pd\n",
        "import seaborn as sns\n",
        "import tensorflow as tf\n",
        "from tensorflow.keras.preprocessing.text import Tokenizer\n",
        "from sklearn.model_selection import train_test_split\n",
        "from tensorflow.keras.preprocessing.sequence import pad_sequences\n",
        "from tensorflow.keras.models import Sequential\n",
        "from tensorflow.keras.layers import Embedding, LSTM, Dense, Dropout, Bidirectional\n",
        "from tensorflow.keras.optimizers import Adam\n"
      ]
    },
    {
      "cell_type": "code",
      "source": [
        "!mkdir ~/.kaggle\n",
        "!cp /content/kaggle.json ~/.kaggle/kaggle.json\n",
        "!chmod 600 ~/.kaggle/kaggle.json\n",
        "!kaggle datasets download -d adityakharosekar2/guardian-news-articles"
      ],
      "metadata": {
        "colab": {
          "base_uri": "https://localhost:8080/"
        },
        "id": "uSXYZfvOntp5",
        "outputId": "d23338bc-eabf-44ba-a14d-e7ef3f139fea"
      },
      "execution_count": 2,
      "outputs": [
        {
          "output_type": "stream",
          "name": "stdout",
          "text": [
            "mkdir: cannot create directory ‘/root/.kaggle’: File exists\n",
            "guardian-news-articles.zip: Skipping, found more recently modified local copy (use --force to force download)\n"
          ]
        }
      ]
    },
    {
      "cell_type": "code",
      "source": [
        "# Specify the path to the zip file\n",
        "zip_file_path = '/content/guardian-news-articles.zip'\n",
        "\n",
        "# Open the zip file\n",
        "with zipfile.ZipFile(zip_file_path, 'r') as zip_ref:\n",
        "    # Extract all the files in the zip file to a folder\n",
        "    zip_ref.extractall('/content')"
      ],
      "metadata": {
        "id": "TN45LKf-n-Zn"
      },
      "execution_count": 3,
      "outputs": []
    },
    {
      "cell_type": "code",
      "source": [
        "# Load and preprocess data\n",
        "data = pd.read_csv('/content/guardian_articles.csv')"
      ],
      "metadata": {
        "id": "NfmJsYwtoAiL"
      },
      "execution_count": 4,
      "outputs": []
    },
    {
      "cell_type": "code",
      "source": [
        "# Identify the two most frequent genre/section types in the dataset\n",
        "section_counts = data['sectionName'].value_counts()\n",
        "top_2_sections = section_counts.nlargest(2).index.tolist()\n",
        "print(\"Two most frequent genres: \", top_2_sections)"
      ],
      "metadata": {
        "colab": {
          "base_uri": "https://localhost:8080/"
        },
        "id": "USPpLonMn7bk",
        "outputId": "db53104a-c051-41b1-9223-2264a4d3e164"
      },
      "execution_count": 5,
      "outputs": [
        {
          "output_type": "stream",
          "name": "stdout",
          "text": [
            "Two most frequent genres:  ['World news', 'Opinion']\n"
          ]
        }
      ]
    },
    {
      "cell_type": "code",
      "source": [
        "data"
      ],
      "metadata": {
        "colab": {
          "base_uri": "https://localhost:8080/",
          "height": 641
        },
        "id": "mFl2XCiVoRJp",
        "outputId": "6f1b7f58-c086-4d4d-e4a5-067b0a39d124"
      },
      "execution_count": 6,
      "outputs": [
        {
          "output_type": "execute_result",
          "data": {
            "text/plain": [
              "                                               article_id     sectionName  \\\n",
              "0       us-news/2016/jan/31/iowa-caucus-underdog-candi...         US news   \n",
              "1       us-news/2016/jan/31/iowa-caucus-worlds-most-pa...         US news   \n",
              "2       world/2016/jan/31/tanzania-britsh-helicopter-p...      World news   \n",
              "3       football/2016/jan/31/late-winner-gets-usa-off-...        Football   \n",
              "4       football/2016/jan/31/blackburn-paul-lambert-ox...        Football   \n",
              "...                                                   ...             ...   \n",
              "149834  world/2022/jun/21/marble-head-of-hercules-pull...      World news   \n",
              "149835  music/2022/jun/22/i-got-sick-of-talking-about-...           Music   \n",
              "149836  australia-news/2022/jun/22/the-small-town-with...  Australia news   \n",
              "149837  australia-news/2022/jun/22/power-to-ban-citize...  Australia news   \n",
              "149838  australia-news/2022/jun/22/liberal-mps-say-pet...  Australia news   \n",
              "\n",
              "                                                 webTitle  \\\n",
              "0       Iowa underdogs put on brave faces despite all ...   \n",
              "1       Iowa caucus: hologram eagle and Jesus star on ...   \n",
              "2       British pilot in Tanzania 'manoeuvred ​to save...   \n",
              "3       USA 3-2 Iceland | International friendly match...   \n",
              "4       Reinvigorated Paul Lambert reflects after impr...   \n",
              "...                                                   ...   \n",
              "149834  Marble head of Hercules pulled up from Roman s...   \n",
              "149835  ‘I got sick of talking about myself’: Spacey J...   \n",
              "149836  The small town with a big potato that inspired...   \n",
              "149837  Power to ban citizens from re-entering Austral...   \n",
              "149838  Liberal MPs say Peter Dutton should let party ...   \n",
              "\n",
              "                                                   webUrl  \\\n",
              "0       https://www.theguardian.com/us-news/2016/jan/3...   \n",
              "1       https://www.theguardian.com/us-news/2016/jan/3...   \n",
              "2       https://www.theguardian.com/world/2016/jan/31/...   \n",
              "3       https://www.theguardian.com/football/2016/jan/...   \n",
              "4       https://www.theguardian.com/football/2016/jan/...   \n",
              "...                                                   ...   \n",
              "149834  https://www.theguardian.com/world/2022/jun/21/...   \n",
              "149835  https://www.theguardian.com/music/2022/jun/22/...   \n",
              "149836  https://www.theguardian.com/australia-news/202...   \n",
              "149837  https://www.theguardian.com/australia-news/202...   \n",
              "149838  https://www.theguardian.com/australia-news/202...   \n",
              "\n",
              "                                              bodyContent  \\\n",
              "0       As polling day looms and the cameras turn only...   \n",
              "1       In Des Moines on Sunday, the Guardian was give...   \n",
              "2       A British pilot who was shot dead by an elepha...   \n",
              "3       USA took a step toward shaking off the ghosts ...   \n",
              "4       The clean-shaven, spectacle free and suspiciou...   \n",
              "...                                                   ...   \n",
              "149834  For archaeologists, it’s the underwater find t...   \n",
              "149835  From under a mop of curls, Caleb Harper – Spac...   \n",
              "149836  Robertson is a small, pretty town perched on t...   \n",
              "149837  A high court decision striking down the home a...   \n",
              "149838  Liberal MPs are urging Peter Dutton to let the...   \n",
              "\n",
              "          webPublicationDate      id  \n",
              "0       2016-01-31T23:53:37Z       1  \n",
              "1       2016-01-31T23:46:28Z       2  \n",
              "2       2016-01-31T23:43:48Z       3  \n",
              "3       2016-01-31T23:30:49Z       4  \n",
              "4       2016-01-31T22:30:10Z       5  \n",
              "...                      ...     ...  \n",
              "149834  2022-06-21T17:31:32Z  149835  \n",
              "149835  2022-06-21T17:30:09Z  149836  \n",
              "149836  2022-06-21T17:30:09Z  149837  \n",
              "149837  2022-06-21T17:30:08Z  149838  \n",
              "149838  2022-06-21T17:30:08Z  149839  \n",
              "\n",
              "[149839 rows x 7 columns]"
            ],
            "text/html": [
              "\n",
              "  <div id=\"df-1146fb48-241d-4f40-8adc-5cd78770be6e\">\n",
              "    <div class=\"colab-df-container\">\n",
              "      <div>\n",
              "<style scoped>\n",
              "    .dataframe tbody tr th:only-of-type {\n",
              "        vertical-align: middle;\n",
              "    }\n",
              "\n",
              "    .dataframe tbody tr th {\n",
              "        vertical-align: top;\n",
              "    }\n",
              "\n",
              "    .dataframe thead th {\n",
              "        text-align: right;\n",
              "    }\n",
              "</style>\n",
              "<table border=\"1\" class=\"dataframe\">\n",
              "  <thead>\n",
              "    <tr style=\"text-align: right;\">\n",
              "      <th></th>\n",
              "      <th>article_id</th>\n",
              "      <th>sectionName</th>\n",
              "      <th>webTitle</th>\n",
              "      <th>webUrl</th>\n",
              "      <th>bodyContent</th>\n",
              "      <th>webPublicationDate</th>\n",
              "      <th>id</th>\n",
              "    </tr>\n",
              "  </thead>\n",
              "  <tbody>\n",
              "    <tr>\n",
              "      <th>0</th>\n",
              "      <td>us-news/2016/jan/31/iowa-caucus-underdog-candi...</td>\n",
              "      <td>US news</td>\n",
              "      <td>Iowa underdogs put on brave faces despite all ...</td>\n",
              "      <td>https://www.theguardian.com/us-news/2016/jan/3...</td>\n",
              "      <td>As polling day looms and the cameras turn only...</td>\n",
              "      <td>2016-01-31T23:53:37Z</td>\n",
              "      <td>1</td>\n",
              "    </tr>\n",
              "    <tr>\n",
              "      <th>1</th>\n",
              "      <td>us-news/2016/jan/31/iowa-caucus-worlds-most-pa...</td>\n",
              "      <td>US news</td>\n",
              "      <td>Iowa caucus: hologram eagle and Jesus star on ...</td>\n",
              "      <td>https://www.theguardian.com/us-news/2016/jan/3...</td>\n",
              "      <td>In Des Moines on Sunday, the Guardian was give...</td>\n",
              "      <td>2016-01-31T23:46:28Z</td>\n",
              "      <td>2</td>\n",
              "    </tr>\n",
              "    <tr>\n",
              "      <th>2</th>\n",
              "      <td>world/2016/jan/31/tanzania-britsh-helicopter-p...</td>\n",
              "      <td>World news</td>\n",
              "      <td>British pilot in Tanzania 'manoeuvred ​to save...</td>\n",
              "      <td>https://www.theguardian.com/world/2016/jan/31/...</td>\n",
              "      <td>A British pilot who was shot dead by an elepha...</td>\n",
              "      <td>2016-01-31T23:43:48Z</td>\n",
              "      <td>3</td>\n",
              "    </tr>\n",
              "    <tr>\n",
              "      <th>3</th>\n",
              "      <td>football/2016/jan/31/late-winner-gets-usa-off-...</td>\n",
              "      <td>Football</td>\n",
              "      <td>USA 3-2 Iceland | International friendly match...</td>\n",
              "      <td>https://www.theguardian.com/football/2016/jan/...</td>\n",
              "      <td>USA took a step toward shaking off the ghosts ...</td>\n",
              "      <td>2016-01-31T23:30:49Z</td>\n",
              "      <td>4</td>\n",
              "    </tr>\n",
              "    <tr>\n",
              "      <th>4</th>\n",
              "      <td>football/2016/jan/31/blackburn-paul-lambert-ox...</td>\n",
              "      <td>Football</td>\n",
              "      <td>Reinvigorated Paul Lambert reflects after impr...</td>\n",
              "      <td>https://www.theguardian.com/football/2016/jan/...</td>\n",
              "      <td>The clean-shaven, spectacle free and suspiciou...</td>\n",
              "      <td>2016-01-31T22:30:10Z</td>\n",
              "      <td>5</td>\n",
              "    </tr>\n",
              "    <tr>\n",
              "      <th>...</th>\n",
              "      <td>...</td>\n",
              "      <td>...</td>\n",
              "      <td>...</td>\n",
              "      <td>...</td>\n",
              "      <td>...</td>\n",
              "      <td>...</td>\n",
              "      <td>...</td>\n",
              "    </tr>\n",
              "    <tr>\n",
              "      <th>149834</th>\n",
              "      <td>world/2022/jun/21/marble-head-of-hercules-pull...</td>\n",
              "      <td>World news</td>\n",
              "      <td>Marble head of Hercules pulled up from Roman s...</td>\n",
              "      <td>https://www.theguardian.com/world/2022/jun/21/...</td>\n",
              "      <td>For archaeologists, it’s the underwater find t...</td>\n",
              "      <td>2022-06-21T17:31:32Z</td>\n",
              "      <td>149835</td>\n",
              "    </tr>\n",
              "    <tr>\n",
              "      <th>149835</th>\n",
              "      <td>music/2022/jun/22/i-got-sick-of-talking-about-...</td>\n",
              "      <td>Music</td>\n",
              "      <td>‘I got sick of talking about myself’: Spacey J...</td>\n",
              "      <td>https://www.theguardian.com/music/2022/jun/22/...</td>\n",
              "      <td>From under a mop of curls, Caleb Harper – Spac...</td>\n",
              "      <td>2022-06-21T17:30:09Z</td>\n",
              "      <td>149836</td>\n",
              "    </tr>\n",
              "    <tr>\n",
              "      <th>149836</th>\n",
              "      <td>australia-news/2022/jun/22/the-small-town-with...</td>\n",
              "      <td>Australia news</td>\n",
              "      <td>The small town with a big potato that inspired...</td>\n",
              "      <td>https://www.theguardian.com/australia-news/202...</td>\n",
              "      <td>Robertson is a small, pretty town perched on t...</td>\n",
              "      <td>2022-06-21T17:30:09Z</td>\n",
              "      <td>149837</td>\n",
              "    </tr>\n",
              "    <tr>\n",
              "      <th>149837</th>\n",
              "      <td>australia-news/2022/jun/22/power-to-ban-citize...</td>\n",
              "      <td>Australia news</td>\n",
              "      <td>Power to ban citizens from re-entering Austral...</td>\n",
              "      <td>https://www.theguardian.com/australia-news/202...</td>\n",
              "      <td>A high court decision striking down the home a...</td>\n",
              "      <td>2022-06-21T17:30:08Z</td>\n",
              "      <td>149838</td>\n",
              "    </tr>\n",
              "    <tr>\n",
              "      <th>149838</th>\n",
              "      <td>australia-news/2022/jun/22/liberal-mps-say-pet...</td>\n",
              "      <td>Australia news</td>\n",
              "      <td>Liberal MPs say Peter Dutton should let party ...</td>\n",
              "      <td>https://www.theguardian.com/australia-news/202...</td>\n",
              "      <td>Liberal MPs are urging Peter Dutton to let the...</td>\n",
              "      <td>2022-06-21T17:30:08Z</td>\n",
              "      <td>149839</td>\n",
              "    </tr>\n",
              "  </tbody>\n",
              "</table>\n",
              "<p>149839 rows × 7 columns</p>\n",
              "</div>\n",
              "      <button class=\"colab-df-convert\" onclick=\"convertToInteractive('df-1146fb48-241d-4f40-8adc-5cd78770be6e')\"\n",
              "              title=\"Convert this dataframe to an interactive table.\"\n",
              "              style=\"display:none;\">\n",
              "        \n",
              "  <svg xmlns=\"http://www.w3.org/2000/svg\" height=\"24px\"viewBox=\"0 0 24 24\"\n",
              "       width=\"24px\">\n",
              "    <path d=\"M0 0h24v24H0V0z\" fill=\"none\"/>\n",
              "    <path d=\"M18.56 5.44l.94 2.06.94-2.06 2.06-.94-2.06-.94-.94-2.06-.94 2.06-2.06.94zm-11 1L8.5 8.5l.94-2.06 2.06-.94-2.06-.94L8.5 2.5l-.94 2.06-2.06.94zm10 10l.94 2.06.94-2.06 2.06-.94-2.06-.94-.94-2.06-.94 2.06-2.06.94z\"/><path d=\"M17.41 7.96l-1.37-1.37c-.4-.4-.92-.59-1.43-.59-.52 0-1.04.2-1.43.59L10.3 9.45l-7.72 7.72c-.78.78-.78 2.05 0 2.83L4 21.41c.39.39.9.59 1.41.59.51 0 1.02-.2 1.41-.59l7.78-7.78 2.81-2.81c.8-.78.8-2.07 0-2.86zM5.41 20L4 18.59l7.72-7.72 1.47 1.35L5.41 20z\"/>\n",
              "  </svg>\n",
              "      </button>\n",
              "      \n",
              "  <style>\n",
              "    .colab-df-container {\n",
              "      display:flex;\n",
              "      flex-wrap:wrap;\n",
              "      gap: 12px;\n",
              "    }\n",
              "\n",
              "    .colab-df-convert {\n",
              "      background-color: #E8F0FE;\n",
              "      border: none;\n",
              "      border-radius: 50%;\n",
              "      cursor: pointer;\n",
              "      display: none;\n",
              "      fill: #1967D2;\n",
              "      height: 32px;\n",
              "      padding: 0 0 0 0;\n",
              "      width: 32px;\n",
              "    }\n",
              "\n",
              "    .colab-df-convert:hover {\n",
              "      background-color: #E2EBFA;\n",
              "      box-shadow: 0px 1px 2px rgba(60, 64, 67, 0.3), 0px 1px 3px 1px rgba(60, 64, 67, 0.15);\n",
              "      fill: #174EA6;\n",
              "    }\n",
              "\n",
              "    [theme=dark] .colab-df-convert {\n",
              "      background-color: #3B4455;\n",
              "      fill: #D2E3FC;\n",
              "    }\n",
              "\n",
              "    [theme=dark] .colab-df-convert:hover {\n",
              "      background-color: #434B5C;\n",
              "      box-shadow: 0px 1px 3px 1px rgba(0, 0, 0, 0.15);\n",
              "      filter: drop-shadow(0px 1px 2px rgba(0, 0, 0, 0.3));\n",
              "      fill: #FFFFFF;\n",
              "    }\n",
              "  </style>\n",
              "\n",
              "      <script>\n",
              "        const buttonEl =\n",
              "          document.querySelector('#df-1146fb48-241d-4f40-8adc-5cd78770be6e button.colab-df-convert');\n",
              "        buttonEl.style.display =\n",
              "          google.colab.kernel.accessAllowed ? 'block' : 'none';\n",
              "\n",
              "        async function convertToInteractive(key) {\n",
              "          const element = document.querySelector('#df-1146fb48-241d-4f40-8adc-5cd78770be6e');\n",
              "          const dataTable =\n",
              "            await google.colab.kernel.invokeFunction('convertToInteractive',\n",
              "                                                     [key], {});\n",
              "          if (!dataTable) return;\n",
              "\n",
              "          const docLinkHtml = 'Like what you see? Visit the ' +\n",
              "            '<a target=\"_blank\" href=https://colab.research.google.com/notebooks/data_table.ipynb>data table notebook</a>'\n",
              "            + ' to learn more about interactive tables.';\n",
              "          element.innerHTML = '';\n",
              "          dataTable['output_type'] = 'display_data';\n",
              "          await google.colab.output.renderOutput(dataTable, element);\n",
              "          const docLink = document.createElement('div');\n",
              "          docLink.innerHTML = docLinkHtml;\n",
              "          element.appendChild(docLink);\n",
              "        }\n",
              "      </script>\n",
              "    </div>\n",
              "  </div>\n",
              "  "
            ]
          },
          "metadata": {},
          "execution_count": 6
        }
      ]
    },
    {
      "cell_type": "code",
      "source": [
        "data = data[data['sectionName'].isin(['World news', 'Opinion'])]\n",
        "data = data.dropna()"
      ],
      "metadata": {
        "id": "yiCXOv3HosUu"
      },
      "execution_count": 7,
      "outputs": []
    },
    {
      "cell_type": "code",
      "source": [
        "data = data.sample(frac=0.15, random_state=42)"
      ],
      "metadata": {
        "id": "pR_NuW93i12x"
      },
      "execution_count": 8,
      "outputs": []
    },
    {
      "cell_type": "code",
      "source": [
        "n_words = len(data['bodyContent'])\n",
        "unique_words = len(set(data['bodyContent']))\n",
        "\n",
        "print('Total Words: %d' % n_words)\n",
        "print('Unique Words: %d' % unique_words)"
      ],
      "metadata": {
        "colab": {
          "base_uri": "https://localhost:8080/"
        },
        "id": "9IZGId-TlOlD",
        "outputId": "49d35505-7621-4ef8-a3a1-a10dbb230408"
      },
      "execution_count": 21,
      "outputs": [
        {
          "output_type": "stream",
          "name": "stdout",
          "text": [
            "Total Words: 4116\n",
            "Unique Words: 4116\n"
          ]
        }
      ]
    },
    {
      "cell_type": "code",
      "source": [
        "vocab_size = len(tokenizer.word_index) + 1\n",
        "word_2_index = tokenizer.word_index"
      ],
      "metadata": {
        "id": "DroESa16l6Fg"
      },
      "execution_count": null,
      "outputs": []
    },
    {
      "cell_type": "code",
      "source": [
        "# Create a character-level tokenizer\n",
        "tokenizer = Tokenizer(char_level=True, oov_token=\"<OOV>\")\n",
        "tokenizer.fit_on_texts(data['bodyContent'])"
      ],
      "metadata": {
        "id": "EO07WkFGbKaP"
      },
      "execution_count": 9,
      "outputs": []
    },
    {
      "cell_type": "code",
      "source": [
        "input_sequences = []\n",
        "\n",
        "max_sequences_per_line = 50\n",
        "for line in data['bodyContent']:\n",
        "    token_list = tokenizer.texts_to_sequences([line])[0]\n",
        "    sequences_added = 0\n",
        "    for i in range(1, len(token_list)):\n",
        "        n_gram_sequence = token_list[:i+1]\n",
        "        input_sequences.append(n_gram_sequence)\n",
        "        sequences_added += 1\n",
        "        if sequences_added >= max_sequences_per_line:\n",
        "            break\n"
      ],
      "metadata": {
        "id": "kcF_V_5ahuPz"
      },
      "execution_count": 10,
      "outputs": []
    },
    {
      "cell_type": "code",
      "source": [
        "# Pad sequences\n",
        "max_sequence_length = max([len(x) for x in input_sequences])\n",
        "input_sequences = np.array(pad_sequences(input_sequences, maxlen=max_sequence_length, padding='pre'))"
      ],
      "metadata": {
        "id": "WHpzNIM6bH09"
      },
      "execution_count": 11,
      "outputs": []
    },
    {
      "cell_type": "code",
      "source": [
        "# Create training data\n",
        "X, y = input_sequences[:, :-1], input_sequences[:, -1]\n",
        "y = tf.keras.utils.to_categorical(y, num_classes=len(tokenizer.word_index) + 1)\n"
      ],
      "metadata": {
        "id": "NIuyhwXRhVHi"
      },
      "execution_count": 12,
      "outputs": []
    },
    {
      "cell_type": "code",
      "source": [
        "# Build the LSTM model\n",
        "state_size = 128\n",
        "model = Sequential()\n",
        "model.add(Embedding(len(tokenizer.word_index) + 1, state_size, input_length=max_sequence_length - 1))\n",
        "model.add(LSTM(state_size, return_sequences=True))\n",
        "model.add(LSTM(state_size))\n",
        "model.add(Dense(len(tokenizer.word_index) + 1, activation=\"softmax\"))\n",
        "model.compile(loss=\"categorical_crossentropy\", optimizer=Adam(), metrics=[\"accuracy\"])"
      ],
      "metadata": {
        "id": "Z7kwgQUyhXsH"
      },
      "execution_count": 13,
      "outputs": []
    },
    {
      "cell_type": "code",
      "source": [
        "# Train the model\n",
        "epochs = 2\n",
        "batch_size = 64\n",
        "model.fit(X, y, epochs=epochs, batch_size=batch_size)"
      ],
      "metadata": {
        "colab": {
          "base_uri": "https://localhost:8080/"
        },
        "id": "L9O8B1Bmhctf",
        "outputId": "c6ad16b4-9c1b-458a-f987-ae0dce75bdb9"
      },
      "execution_count": 14,
      "outputs": [
        {
          "output_type": "stream",
          "name": "stdout",
          "text": [
            "Epoch 1/2\n",
            "3216/3216 [==============================] - 48s 12ms/step - loss: 2.4280 - accuracy: 0.2987\n",
            "Epoch 2/2\n",
            "3216/3216 [==============================] - 29s 9ms/step - loss: 2.0947 - accuracy: 0.3800\n"
          ]
        },
        {
          "output_type": "execute_result",
          "data": {
            "text/plain": [
              "<keras.callbacks.History at 0x7f4fb1c90580>"
            ]
          },
          "metadata": {},
          "execution_count": 14
        }
      ]
    },
    {
      "cell_type": "code",
      "source": [
        "# Generate text using the trained model\n",
        "def generate_text(seed_text, model, tokenizer, max_sequence_length, num_turns):\n",
        "    generated_text = seed_text\n",
        "\n",
        "    for _ in range(num_turns):\n",
        "        token_list = tokenizer.texts_to_sequences([generated_text])[0]\n",
        "        token_list = pad_sequences([token_list], maxlen=max_sequence_length - 1, padding='pre')\n",
        "        predicted = np.argmax(model.predict(token_list), axis=-1)\n",
        "        output_word = tokenizer.index_word[predicted[0]]\n",
        "        generated_text += output_word\n",
        "\n",
        "    return generated_text"
      ],
      "metadata": {
        "id": "wsDdTzCKhdcr"
      },
      "execution_count": 15,
      "outputs": []
    },
    {
      "cell_type": "code",
      "source": [
        "seed_text = \"world news and opinion new though is:\"\n",
        "generated_text = generate_text(seed_text, model, tokenizer, max_sequence_length, 10)\n",
        "print(generated_text)"
      ],
      "metadata": {
        "colab": {
          "base_uri": "https://localhost:8080/"
        },
        "id": "t_W_k5ThiBwv",
        "outputId": "9e944287-09b9-4ae3-c7a6-cad3abd3b850"
      },
      "execution_count": 27,
      "outputs": [
        {
          "output_type": "stream",
          "name": "stdout",
          "text": [
            "1/1 [==============================] - 0s 22ms/step\n",
            "1/1 [==============================] - 0s 19ms/step\n",
            "1/1 [==============================] - 0s 19ms/step\n",
            "1/1 [==============================] - 0s 25ms/step\n",
            "1/1 [==============================] - 0s 19ms/step\n",
            "1/1 [==============================] - 0s 21ms/step\n",
            "1/1 [==============================] - 0s 20ms/step\n",
            "1/1 [==============================] - 0s 20ms/step\n",
            "1/1 [==============================] - 0s 21ms/step\n",
            "1/1 [==============================] - 0s 20ms/step\n",
            "world news and opinion new though is: the conte\n"
          ]
        }
      ]
    }
  ]
}