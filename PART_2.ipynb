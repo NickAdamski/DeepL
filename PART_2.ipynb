{
  "nbformat": 4,
  "nbformat_minor": 0,
  "metadata": {
    "colab": {
      "provenance": []
    },
    "kernelspec": {
      "name": "python3",
      "display_name": "Python 3"
    },
    "language_info": {
      "name": "python"
    }
  },
  "cells": [
    {
      "cell_type": "code",
      "execution_count": null,
      "metadata": {
        "colab": {
          "base_uri": "https://localhost:8080/"
        },
        "id": "aywnDgMX2XrL",
        "outputId": "2ec83857-7bcb-46d1-82da-38760d715a03"
      },
      "outputs": [
        {
          "output_type": "stream",
          "name": "stdout",
          "text": [
            "Looking in indexes: https://pypi.org/simple, https://us-python.pkg.dev/colab-wheels/public/simple/\n",
            "Requirement already satisfied: gdown in /usr/local/lib/python3.10/dist-packages (4.6.6)\n",
            "Requirement already satisfied: requests[socks] in /usr/local/lib/python3.10/dist-packages (from gdown) (2.27.1)\n",
            "Requirement already satisfied: tqdm in /usr/local/lib/python3.10/dist-packages (from gdown) (4.65.0)\n",
            "Requirement already satisfied: filelock in /usr/local/lib/python3.10/dist-packages (from gdown) (3.12.0)\n",
            "Requirement already satisfied: six in /usr/local/lib/python3.10/dist-packages (from gdown) (1.16.0)\n",
            "Requirement already satisfied: beautifulsoup4 in /usr/local/lib/python3.10/dist-packages (from gdown) (4.11.2)\n",
            "Requirement already satisfied: soupsieve>1.2 in /usr/local/lib/python3.10/dist-packages (from beautifulsoup4->gdown) (2.4.1)\n",
            "Requirement already satisfied: urllib3<1.27,>=1.21.1 in /usr/local/lib/python3.10/dist-packages (from requests[socks]->gdown) (1.26.15)\n",
            "Requirement already satisfied: certifi>=2017.4.17 in /usr/local/lib/python3.10/dist-packages (from requests[socks]->gdown) (2022.12.7)\n",
            "Requirement already satisfied: idna<4,>=2.5 in /usr/local/lib/python3.10/dist-packages (from requests[socks]->gdown) (3.4)\n",
            "Requirement already satisfied: charset-normalizer~=2.0.0 in /usr/local/lib/python3.10/dist-packages (from requests[socks]->gdown) (2.0.12)\n",
            "Requirement already satisfied: PySocks!=1.5.7,>=1.5.6 in /usr/local/lib/python3.10/dist-packages (from requests[socks]->gdown) (1.7.1)\n"
          ]
        }
      ],
      "source": [
        "!pip install gdown"
      ]
    },
    {
      "cell_type": "code",
      "source": [
        "import gdown\n",
        "\n",
        "url = 'https://drive.google.com/file/d/1K1FYEcCnpQrQv3rHr2ozXXrILTOY3XF2/view?usp=share_link'\n",
        "url2 = 'https://drive.google.com/file/d/1dKPZpvP8KPXqScIZR-GYGYhOSGLmndMe/view?usp=share_link'\n",
        "output = 'best_model_no_pretrained_both.h5'\n",
        "output2 = 'best_model_pretrained_embedding.h5'\n",
        "gdown.download(url, output, quiet=False)\n",
        "gdown.download(url2, output2, quiet=False)\n"
      ],
      "metadata": {
        "colab": {
          "base_uri": "https://localhost:8080/",
          "height": 272
        },
        "id": "QRGiV_Sx23R4",
        "outputId": "3c6bc34f-a0b0-45f7-dc7f-d9049834a0a3"
      },
      "execution_count": null,
      "outputs": [
        {
          "output_type": "stream",
          "name": "stderr",
          "text": [
            "/usr/local/lib/python3.10/dist-packages/gdown/parse_url.py:35: UserWarning: You specified a Google Drive link that is not the correct link to download a file. You might want to try `--fuzzy` option or the following url: https://drive.google.com/uc?id=1K1FYEcCnpQrQv3rHr2ozXXrILTOY3XF2\n",
            "  warnings.warn(\n",
            "Downloading...\n",
            "From: https://drive.google.com/file/d/1K1FYEcCnpQrQv3rHr2ozXXrILTOY3XF2/view?usp=share_link\n",
            "To: /content/best_model_no_pretrained_both.h5\n",
            "73.5kB [00:00, 37.2MB/s]\n",
            "/usr/local/lib/python3.10/dist-packages/gdown/parse_url.py:35: UserWarning: You specified a Google Drive link that is not the correct link to download a file. You might want to try `--fuzzy` option or the following url: https://drive.google.com/uc?id=1dKPZpvP8KPXqScIZR-GYGYhOSGLmndMe\n",
            "  warnings.warn(\n",
            "Downloading...\n",
            "From: https://drive.google.com/file/d/1dKPZpvP8KPXqScIZR-GYGYhOSGLmndMe/view?usp=share_link\n",
            "To: /content/best_model_pretrained_embedding.h5\n",
            "73.6kB [00:00, 26.6MB/s]\n"
          ]
        },
        {
          "output_type": "execute_result",
          "data": {
            "text/plain": [
              "'best_model_pretrained_embedding.h5'"
            ],
            "application/vnd.google.colaboratory.intrinsic+json": {
              "type": "string"
            }
          },
          "metadata": {},
          "execution_count": 43
        }
      ]
    },
    {
      "cell_type": "code",
      "source": [
        "import pandas as pd\n",
        "from sklearn.model_selection import train_test_split\n",
        "from sklearn.preprocessing import LabelEncoder\n",
        "import tensorflow as tf\n",
        "from tensorflow.keras.layers import Embedding, SimpleRNN, Dense, Flatten\n",
        "from tensorflow.keras.preprocessing.text import Tokenizer\n",
        "from keras.models import load_model\n",
        "from tensorflow.keras.preprocessing.sequence import pad_sequences\n",
        "from tensorflow.keras.models import Sequential\n",
        "from tensorflow.keras.layers import Embedding, SimpleRNN, Dense\n",
        "\n",
        "# Load the BBC dataset\n",
        "bbc_data = pd.read_csv('https://storage.googleapis.com/dataset-uploader/bbc/bbc-text.csv')\n",
        "\n",
        "# Display the first 5 rows of the dataset\n",
        "print(bbc_data.head())\n"
      ],
      "metadata": {
        "colab": {
          "base_uri": "https://localhost:8080/"
        },
        "id": "bFQKOML12ZCu",
        "outputId": "1ea5ed70-7a09-482e-b287-014390276710"
      },
      "execution_count": null,
      "outputs": [
        {
          "output_type": "stream",
          "name": "stdout",
          "text": [
            "        category                                               text\n",
            "0           tech  tv future in the hands of viewers with home th...\n",
            "1       business  worldcom boss  left books alone  former worldc...\n",
            "2          sport  tigers wary of farrell  gamble  leicester say ...\n",
            "3          sport  yeading face newcastle in fa cup premiership s...\n",
            "4  entertainment  ocean s twelve raids box office ocean s twelve...\n"
          ]
        }
      ]
    },
    {
      "cell_type": "code",
      "source": [
        "#Dataset Splitting for BBC Dataset\n",
        "train_data, test_data = train_test_split(bbc_data, test_size=0.2, random_state=42)\n",
        "val_data, test_data = train_test_split(test_data, test_size=0.5, random_state=42)\n"
      ],
      "metadata": {
        "id": "5d4Al-vy_8KN"
      },
      "execution_count": null,
      "outputs": []
    },
    {
      "cell_type": "code",
      "source": [
        "train_data"
      ],
      "metadata": {
        "colab": {
          "base_uri": "https://localhost:8080/",
          "height": 423
        },
        "id": "94S2kam8CWLE",
        "outputId": "e03ab0f1-ef01-410e-f2f6-1e4f035c5662"
      },
      "execution_count": null,
      "outputs": [
        {
          "output_type": "execute_result",
          "data": {
            "text/plain": [
              "           category                                               text\n",
              "1490  entertainment  farrell due to make us tv debut actor colin fa...\n",
              "2001       business  china continues rapid growth china s economy h...\n",
              "1572       business  ebbers  aware  of worldcom fraud former worldc...\n",
              "1840  entertainment  school tribute for tv host carson more than 1 ...\n",
              "610            tech  broadband fuels online expression fast web acc...\n",
              "...             ...                                                ...\n",
              "1638          sport  a november to remember last saturday  one news...\n",
              "1095          sport  african double in edinburgh world 5000m champi...\n",
              "1130           tech  what price for  trusted pc security   you can ...\n",
              "1294          sport  o driscoll/gregan lead aid stars ireland s bri...\n",
              "860            tech  new year s texting breaks record a mobile phon...\n",
              "\n",
              "[1780 rows x 2 columns]"
            ],
            "text/html": [
              "\n",
              "  <div id=\"df-dc029c1b-949e-417d-b7cf-def4aed39927\">\n",
              "    <div class=\"colab-df-container\">\n",
              "      <div>\n",
              "<style scoped>\n",
              "    .dataframe tbody tr th:only-of-type {\n",
              "        vertical-align: middle;\n",
              "    }\n",
              "\n",
              "    .dataframe tbody tr th {\n",
              "        vertical-align: top;\n",
              "    }\n",
              "\n",
              "    .dataframe thead th {\n",
              "        text-align: right;\n",
              "    }\n",
              "</style>\n",
              "<table border=\"1\" class=\"dataframe\">\n",
              "  <thead>\n",
              "    <tr style=\"text-align: right;\">\n",
              "      <th></th>\n",
              "      <th>category</th>\n",
              "      <th>text</th>\n",
              "    </tr>\n",
              "  </thead>\n",
              "  <tbody>\n",
              "    <tr>\n",
              "      <th>1490</th>\n",
              "      <td>entertainment</td>\n",
              "      <td>farrell due to make us tv debut actor colin fa...</td>\n",
              "    </tr>\n",
              "    <tr>\n",
              "      <th>2001</th>\n",
              "      <td>business</td>\n",
              "      <td>china continues rapid growth china s economy h...</td>\n",
              "    </tr>\n",
              "    <tr>\n",
              "      <th>1572</th>\n",
              "      <td>business</td>\n",
              "      <td>ebbers  aware  of worldcom fraud former worldc...</td>\n",
              "    </tr>\n",
              "    <tr>\n",
              "      <th>1840</th>\n",
              "      <td>entertainment</td>\n",
              "      <td>school tribute for tv host carson more than 1 ...</td>\n",
              "    </tr>\n",
              "    <tr>\n",
              "      <th>610</th>\n",
              "      <td>tech</td>\n",
              "      <td>broadband fuels online expression fast web acc...</td>\n",
              "    </tr>\n",
              "    <tr>\n",
              "      <th>...</th>\n",
              "      <td>...</td>\n",
              "      <td>...</td>\n",
              "    </tr>\n",
              "    <tr>\n",
              "      <th>1638</th>\n",
              "      <td>sport</td>\n",
              "      <td>a november to remember last saturday  one news...</td>\n",
              "    </tr>\n",
              "    <tr>\n",
              "      <th>1095</th>\n",
              "      <td>sport</td>\n",
              "      <td>african double in edinburgh world 5000m champi...</td>\n",
              "    </tr>\n",
              "    <tr>\n",
              "      <th>1130</th>\n",
              "      <td>tech</td>\n",
              "      <td>what price for  trusted pc security   you can ...</td>\n",
              "    </tr>\n",
              "    <tr>\n",
              "      <th>1294</th>\n",
              "      <td>sport</td>\n",
              "      <td>o driscoll/gregan lead aid stars ireland s bri...</td>\n",
              "    </tr>\n",
              "    <tr>\n",
              "      <th>860</th>\n",
              "      <td>tech</td>\n",
              "      <td>new year s texting breaks record a mobile phon...</td>\n",
              "    </tr>\n",
              "  </tbody>\n",
              "</table>\n",
              "<p>1780 rows × 2 columns</p>\n",
              "</div>\n",
              "      <button class=\"colab-df-convert\" onclick=\"convertToInteractive('df-dc029c1b-949e-417d-b7cf-def4aed39927')\"\n",
              "              title=\"Convert this dataframe to an interactive table.\"\n",
              "              style=\"display:none;\">\n",
              "        \n",
              "  <svg xmlns=\"http://www.w3.org/2000/svg\" height=\"24px\"viewBox=\"0 0 24 24\"\n",
              "       width=\"24px\">\n",
              "    <path d=\"M0 0h24v24H0V0z\" fill=\"none\"/>\n",
              "    <path d=\"M18.56 5.44l.94 2.06.94-2.06 2.06-.94-2.06-.94-.94-2.06-.94 2.06-2.06.94zm-11 1L8.5 8.5l.94-2.06 2.06-.94-2.06-.94L8.5 2.5l-.94 2.06-2.06.94zm10 10l.94 2.06.94-2.06 2.06-.94-2.06-.94-.94-2.06-.94 2.06-2.06.94z\"/><path d=\"M17.41 7.96l-1.37-1.37c-.4-.4-.92-.59-1.43-.59-.52 0-1.04.2-1.43.59L10.3 9.45l-7.72 7.72c-.78.78-.78 2.05 0 2.83L4 21.41c.39.39.9.59 1.41.59.51 0 1.02-.2 1.41-.59l7.78-7.78 2.81-2.81c.8-.78.8-2.07 0-2.86zM5.41 20L4 18.59l7.72-7.72 1.47 1.35L5.41 20z\"/>\n",
              "  </svg>\n",
              "      </button>\n",
              "      \n",
              "  <style>\n",
              "    .colab-df-container {\n",
              "      display:flex;\n",
              "      flex-wrap:wrap;\n",
              "      gap: 12px;\n",
              "    }\n",
              "\n",
              "    .colab-df-convert {\n",
              "      background-color: #E8F0FE;\n",
              "      border: none;\n",
              "      border-radius: 50%;\n",
              "      cursor: pointer;\n",
              "      display: none;\n",
              "      fill: #1967D2;\n",
              "      height: 32px;\n",
              "      padding: 0 0 0 0;\n",
              "      width: 32px;\n",
              "    }\n",
              "\n",
              "    .colab-df-convert:hover {\n",
              "      background-color: #E2EBFA;\n",
              "      box-shadow: 0px 1px 2px rgba(60, 64, 67, 0.3), 0px 1px 3px 1px rgba(60, 64, 67, 0.15);\n",
              "      fill: #174EA6;\n",
              "    }\n",
              "\n",
              "    [theme=dark] .colab-df-convert {\n",
              "      background-color: #3B4455;\n",
              "      fill: #D2E3FC;\n",
              "    }\n",
              "\n",
              "    [theme=dark] .colab-df-convert:hover {\n",
              "      background-color: #434B5C;\n",
              "      box-shadow: 0px 1px 3px 1px rgba(0, 0, 0, 0.15);\n",
              "      filter: drop-shadow(0px 1px 2px rgba(0, 0, 0, 0.3));\n",
              "      fill: #FFFFFF;\n",
              "    }\n",
              "  </style>\n",
              "\n",
              "      <script>\n",
              "        const buttonEl =\n",
              "          document.querySelector('#df-dc029c1b-949e-417d-b7cf-def4aed39927 button.colab-df-convert');\n",
              "        buttonEl.style.display =\n",
              "          google.colab.kernel.accessAllowed ? 'block' : 'none';\n",
              "\n",
              "        async function convertToInteractive(key) {\n",
              "          const element = document.querySelector('#df-dc029c1b-949e-417d-b7cf-def4aed39927');\n",
              "          const dataTable =\n",
              "            await google.colab.kernel.invokeFunction('convertToInteractive',\n",
              "                                                     [key], {});\n",
              "          if (!dataTable) return;\n",
              "\n",
              "          const docLinkHtml = 'Like what you see? Visit the ' +\n",
              "            '<a target=\"_blank\" href=https://colab.research.google.com/notebooks/data_table.ipynb>data table notebook</a>'\n",
              "            + ' to learn more about interactive tables.';\n",
              "          element.innerHTML = '';\n",
              "          dataTable['output_type'] = 'display_data';\n",
              "          await google.colab.output.renderOutput(dataTable, element);\n",
              "          const docLink = document.createElement('div');\n",
              "          docLink.innerHTML = docLinkHtml;\n",
              "          element.appendChild(docLink);\n",
              "        }\n",
              "      </script>\n",
              "    </div>\n",
              "  </div>\n",
              "  "
            ]
          },
          "metadata": {},
          "execution_count": 46
        }
      ]
    },
    {
      "cell_type": "code",
      "source": [
        "# Display the number of samples in each set\n",
        "print(f\"Training samples: {len(train_data)}\")\n",
        "print(f\"Validation samples: {len(val_data)}\")\n",
        "print(f\"Testing samples: {len(test_data)}\")"
      ],
      "metadata": {
        "colab": {
          "base_uri": "https://localhost:8080/"
        },
        "id": "YCxF3h22AIzj",
        "outputId": "4388a899-6a99-40ac-8423-8af14511101d"
      },
      "execution_count": null,
      "outputs": [
        {
          "output_type": "stream",
          "name": "stdout",
          "text": [
            "Training samples: 1780\n",
            "Validation samples: 222\n",
            "Testing samples: 223\n"
          ]
        }
      ]
    },
    {
      "cell_type": "code",
      "source": [
        "# Tokenize the text data\n",
        "tokenizer = Tokenizer()\n",
        "tokenizer.fit_on_texts(train_data['text'])\n",
        "\n",
        "X_train = tokenizer.texts_to_sequences(train_data['text'])\n",
        "X_val = tokenizer.texts_to_sequences(val_data['text'])\n",
        "X_test = tokenizer.texts_to_sequences(test_data['text'])\n",
        "\n"
      ],
      "metadata": {
        "id": "r6I4jowVAPhw"
      },
      "execution_count": null,
      "outputs": []
    },
    {
      "cell_type": "code",
      "source": [
        "# Pad the sequences\n",
        "max_length = 500\n",
        "\n",
        "X_train = pad_sequences(X_train, maxlen=max_length, padding='post', truncating='post')\n",
        "X_val = pad_sequences(X_val, maxlen=max_length, padding='post', truncating='post')\n",
        "X_test = pad_sequences(X_test, maxlen=max_length, padding='post', truncating='post')"
      ],
      "metadata": {
        "id": "ng65qqVKCLgx"
      },
      "execution_count": null,
      "outputs": []
    },
    {
      "cell_type": "code",
      "source": [
        "# Prepare the target (sectionName) data\n",
        "encoder = LabelEncoder()\n",
        "encoder.fit(bbc_data['category'])\n",
        "y_train = encoder.transform(train_data['category'])\n",
        "y_val = encoder.transform(val_data['category'])\n",
        "y_test = encoder.transform(test_data['category'])"
      ],
      "metadata": {
        "id": "O_5hR9UJCN66"
      },
      "execution_count": null,
      "outputs": []
    },
    {
      "cell_type": "code",
      "source": [
        "# Prompt 14: Load Saved Models from Part 1\n",
        "model_without_embeddings = load_model('/content/drive/MyDrive/best_model_no_pretrained_both.h5')\n",
        "model_with_embeddings = load_model('/content/drive/MyDrive/best_model_pretrained_embedding.h5')"
      ],
      "metadata": {
        "id": "ppUqNrwmAQxt"
      },
      "execution_count": null,
      "outputs": []
    },
    {
      "cell_type": "code",
      "source": [
        "# Transfer model without embeddings\n",
        "transfer_model_without_embeddings = Sequential([\n",
        "    model_without_embeddings.layers[0],\n",
        "    model_without_embeddings.layers[1],\n",
        "    Flatten(),\n",
        "    Dense(5, activation='softmax')\n",
        "])\n",
        "\n",
        "transfer_model_without_embeddings.compile(optimizer='adam', loss='sparse_categorical_crossentropy', metrics=['accuracy'])\n",
        "\n",
        "history_without_embeddings = transfer_model_without_embeddings.fit(X_train, y_train, validation_data=(X_val, y_val), epochs=2, batch_size=32)\n",
        "\n",
        "# Evaluate the model on the test dataset\n",
        "test_loss_without_embeddings, test_accuracy_without_embeddings = transfer_model_without_embeddings.evaluate(X_test, y_test)\n",
        "print(f\"Test loss without embeddings: {test_loss_without_embeddings}\")\n",
        "print(f\"Test accuracy without embeddings: {test_accuracy_without_embeddings}\")\n",
        "\n",
        "# Transfer model with embeddings\n",
        "transfer_model_with_embeddings = Sequential([\n",
        "    model_with_embeddings.layers[0],\n",
        "    model_with_embeddings.layers[1],\n",
        "    Flatten(),\n",
        "    Dense(5, activation='softmax')\n",
        "])\n",
        "\n",
        "transfer_model_with_embeddings.compile(optimizer='adam', loss='sparse_categorical_crossentropy', metrics=['accuracy'])\n",
        "\n",
        "history_with_embeddings = transfer_model_with_embeddings.fit(X_train, y_train, validation_data=(X_val, y_val), epochs=2, batch_size=32)\n",
        "\n",
        "# Evaluate the model on the test dataset\n",
        "test_loss_with_embeddings, test_accuracy_with_embeddings = transfer_model_with_embeddings.evaluate(X_test, y_test)\n",
        "print(f\"Test loss with embeddings: {test_loss_with_embeddings}\")\n",
        "print(f\"Test accuracy with embeddings: {test_accuracy_with_embeddings}\")\n"
      ],
      "metadata": {
        "colab": {
          "base_uri": "https://localhost:8080/"
        },
        "id": "HoYRmojtAiZg",
        "outputId": "41bef77a-e232-4288-89e7-1dc3cc832815"
      },
      "execution_count": null,
      "outputs": [
        {
          "output_type": "stream",
          "name": "stdout",
          "text": [
            "Epoch 1/2\n",
            "56/56 [==============================] - 93s 2s/step - loss: 1.5833 - accuracy: 0.2522 - val_loss: 1.5524 - val_accuracy: 0.2793\n",
            "Epoch 2/2\n",
            "56/56 [==============================] - 87s 2s/step - loss: 1.5320 - accuracy: 0.2787 - val_loss: 1.5309 - val_accuracy: 0.2793\n",
            "7/7 [==============================] - 2s 259ms/step - loss: 1.4947 - accuracy: 0.2735\n",
            "Test loss without embeddings: 1.4946637153625488\n",
            "Test accuracy without embeddings: 0.2735426127910614\n",
            "Epoch 1/2\n",
            "56/56 [==============================] - 90s 2s/step - loss: 1.5673 - accuracy: 0.2657 - val_loss: 1.5442 - val_accuracy: 0.2117\n",
            "Epoch 2/2\n",
            "56/56 [==============================] - 86s 2s/step - loss: 1.5093 - accuracy: 0.2685 - val_loss: 1.5157 - val_accuracy: 0.3198\n",
            "7/7 [==============================] - 2s 271ms/step - loss: 1.5109 - accuracy: 0.3453\n",
            "Test loss with embeddings: 1.5109301805496216\n",
            "Test accuracy with embeddings: 0.34529146552085876\n"
          ]
        }
      ]
    },
    {
      "cell_type": "markdown",
      "source": [
        "save best model"
      ],
      "metadata": {
        "id": "8uVRW_SMABEL"
      }
    },
    {
      "cell_type": "code",
      "source": [],
      "metadata": {
        "id": "jfe1cKfbAAxU"
      },
      "execution_count": null,
      "outputs": []
    },
    {
      "cell_type": "code",
      "source": [
        "import matplotlib.pyplot as plt\n",
        "\n",
        "def plot_history(histories, labels):\n",
        "    plt.figure(figsize=(12, 5))\n",
        "    \n",
        "    # Plot accuracy\n",
        "    plt.subplot(1, 2, 1)\n",
        "    for history, label in zip(histories, labels):\n",
        "        plt.plot(history.history['accuracy'], label=f'Training {label}')\n",
        "        plt.plot(history.history['val_accuracy'], label=f'Validation {label}')\n",
        "    plt.title('Accuracy')\n",
        "    plt.xlabel('Epoch')\n",
        "    plt.ylabel('Accuracy')\n",
        "    plt.legend()\n",
        "\n",
        "    # Plot loss\n",
        "    plt.subplot(1, 2, 2)\n",
        "    for history, label in zip(histories, labels):\n",
        "        plt.plot(history.history['loss'], label=f'Training {label}')\n",
        "        plt.plot(history.history['val_loss'], label=f'Validation {label}')\n",
        "    plt.title('Loss')\n",
        "    plt.xlabel('Epoch')\n",
        "    plt.ylabel('Loss')\n",
        "    plt.legend()\n",
        "    \n",
        "    plt.show()\n"
      ],
      "metadata": {
        "id": "bKYcaCm2rDLM"
      },
      "execution_count": null,
      "outputs": []
    },
    {
      "cell_type": "code",
      "source": [
        "plot_history([history_without_embeddings, history_with_embeddings], ['Without Embeddings', 'With Embeddings'])"
      ],
      "metadata": {
        "colab": {
          "base_uri": "https://localhost:8080/",
          "height": 487
        },
        "id": "n5MiCKafrRGm",
        "outputId": "f5e8afeb-ea80-416c-e5bb-e357482a7950"
      },
      "execution_count": null,
      "outputs": [
        {
          "output_type": "display_data",
          "data": {
            "text/plain": [
              "<Figure size 1200x500 with 2 Axes>"
            ],
            "image/png": "[encoded data removed]"
          },
          "metadata": {}
        }
      ]
    }
  ]
}